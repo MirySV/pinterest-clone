{
  "nbformat": 4,
  "nbformat_minor": 0,
  "metadata": {
    "colab": {
      "provenance": [],
      "authorship_tag": "ABX9TyMI1sUVVbv77IkadJxRllet",
      "include_colab_link": true
    },
    "kernelspec": {
      "name": "python3",
      "display_name": "Python 3"
    },
    "language_info": {
      "name": "python"
    }
  },
  "cells": [
    {
      "cell_type": "markdown",
      "metadata": {
        "id": "view-in-github",
        "colab_type": "text"
      },
      "source": [
        "<a href=\"https://colab.research.google.com/github/MirySV/pinterest-clone/blob/main/Reto5.ipynb\" target=\"_parent\"><img src=\"https://colab.research.google.com/assets/colab-badge.svg\" alt=\"Open In Colab\"/></a>"
      ]
    },
    {
      "cell_type": "code",
      "execution_count": 1,
      "metadata": {
        "id": "0E6U009vqiXz"
      },
      "outputs": [],
      "source": [
        "def numero_es_par(numero):\n",
        "\n",
        "    if numero % 2 == 0:\n",
        "        return True\n",
        "    else:\n",
        "        return False"
      ]
    },
    {
      "cell_type": "code",
      "source": [
        "def test_funcion(funcion_a_probar, num_de_errores, contador, parametros=[], resultado_esperado=None):\n",
        "    resultado_test = funcion_a_probar(*parametros)\n",
        "    print(f'Test {contador}: Resultado esperado es `{resultado_esperado}`, obtuvimos `{resultado_test}`')\n",
        "    if resultado_test != resultado_esperado:\n",
        "        num_de_errores += 1\n",
        "\n",
        "    return num_de_errores"
      ],
      "metadata": {
        "id": "Y_362Xjtqquw"
      },
      "execution_count": 2,
      "outputs": []
    },
    {
      "cell_type": "code",
      "source": [
        "print(\"== Tests numero_es_par==\\n\")\n",
        "\n",
        "contador_de_tests = 0\n",
        "errores = 0\n",
        "\n",
        "contador_de_tests += 1\n",
        "errores = test_funcion(numero_es_par, errores, contador_de_tests, parametros=[2], resultado_esperado=True)\n",
        "contador_de_tests += 1\n",
        "errores = test_funcion(numero_es_par, errores, contador_de_tests, parametros=[3], resultado_esperado=False)\n",
        "contador_de_tests += 1\n",
        "errores = test_funcion(numero_es_par, errores, contador_de_tests, parametros=[0], resultado_esperado=True)\n",
        "contador_de_tests += 1\n",
        "errores = test_funcion(numero_es_par, errores, contador_de_tests, parametros=[127], resultado_esperado=False)\n",
        "contador_de_tests += 1\n",
        "errores = test_funcion(numero_es_par, errores, contador_de_tests, parametros=[-88], resultado_esperado=True)\n",
        "contador_de_tests += 1\n",
        "errores = test_funcion(numero_es_par, errores, contador_de_tests, parametros=[-1349], resultado_esperado=False)\n",
        "\n",
        "print(f'\\nErrores encontrados: {errores}')"
      ],
      "metadata": {
        "colab": {
          "base_uri": "https://localhost:8080/"
        },
        "id": "E3mQm2PZquQA",
        "outputId": "ca5225f5-83e9-4dd9-eed4-e895aea8847f"
      },
      "execution_count": 3,
      "outputs": [
        {
          "output_type": "stream",
          "name": "stdout",
          "text": [
            "== Tests numero_es_par==\n",
            "\n",
            "Test 1: Resultado esperado es `True`, obtuvimos `True`\n",
            "Test 2: Resultado esperado es `False`, obtuvimos `False`\n",
            "Test 3: Resultado esperado es `True`, obtuvimos `True`\n",
            "Test 4: Resultado esperado es `False`, obtuvimos `False`\n",
            "Test 5: Resultado esperado es `True`, obtuvimos `True`\n",
            "Test 6: Resultado esperado es `False`, obtuvimos `False`\n",
            "\n",
            "Errores encontrados: 0\n"
          ]
        }
      ]
    },
    {
      "cell_type": "code",
      "source": [
        "def sacar_porcentaje(muestra, total):\n",
        "    return muestra * 100 / total\n",
        "\n",
        "def crear_string_con_porcentaje_de_muestra_al_total(muestra, total, porcentaje):\n",
        "    return f'{muestra} es el {porcentaje}% del número {total}'"
      ],
      "metadata": {
        "id": "7oliqKqgrWAy"
      },
      "execution_count": 4,
      "outputs": []
    },
    {
      "cell_type": "code",
      "source": [
        "resultado_1 = 34 * 100 / 100\n",
        "print(f'34 es el {resultado_1}% del número 100\\n')\n",
        "\n",
        "resultado_2 = 57 * 100 / 127\n",
        "print(f'57 es el {resultado_2}% del número 127\\n')\n",
        "\n",
        "resultado_3 = 12 * 100 / 228\n",
        "print(f'12 es el {resultado_3}% del número 228\\n')\n",
        "\n",
        "resultado_4 = 87 * 100 / 90\n",
        "print(f'87 es el {resultado_4}% del número 90\\n')\n",
        "\n",
        "resultado_5 = 1 * 100 / 999\n",
        "print(f'1 es el {resultado_5}% del número 999\\n')\n",
        "\n",
        "resultado_6 = 66 * 100 / 66\n",
        "print(f'66 es el {resultado_6}% del número 66\\n')"
      ],
      "metadata": {
        "colab": {
          "base_uri": "https://localhost:8080/"
        },
        "id": "HUoZ-YCsrWNI",
        "outputId": "85c1a6f1-ab07-44b7-e2c3-bf89307da19f"
      },
      "execution_count": 5,
      "outputs": [
        {
          "output_type": "stream",
          "name": "stdout",
          "text": [
            "34 es el 34.0% del número 100\n",
            "\n",
            "57 es el 44.881889763779526% del número 127\n",
            "\n",
            "12 es el 5.2631578947368425% del número 228\n",
            "\n",
            "87 es el 96.66666666666667% del número 90\n",
            "\n",
            "1 es el 0.1001001001001001% del número 999\n",
            "\n",
            "66 es el 100.0% del número 66\n",
            "\n"
          ]
        }
      ]
    },
    {
      "cell_type": "code",
      "source": [
        "usuarios = {\n",
        "    \"manolito_garcia\": {\n",
        "        \"rol\": \"admin\"\n",
        "    },\n",
        "    \"sebas_macaco_23\": {\n",
        "        \"rol\": \"editor\",\n",
        "        \"nip_de_acceso\": 3594\n",
        "    },\n",
        "    \"la_susanita_maestra\": {\n",
        "        \"rol\": \"admin\"\n",
        "    },\n",
        "    \"pepe_le_pu_88\": {\n",
        "        \"rol\": \"lector\"\n",
        "    },\n",
        "    \"jonny_bravo_estuvo_aqui\": {\n",
        "        \"rol\": \"editor\",\n",
        "        \"nip_de_acceso\": 9730\n",
        "    },\n",
        "    \"alfonso_torres_69\": {\n",
        "        \"rol\": \"editor\",\n",
        "        \"nip_de_acceso\": 2849\n",
        "    },\n",
        "    \"jocosita_99\": {\n",
        "        \"rol\": \"lector\"\n",
        "    }\n",
        "}"
      ],
      "metadata": {
        "id": "NnDx0W_yrvRH"
      },
      "execution_count": 6,
      "outputs": []
    },
    {
      "cell_type": "code",
      "source": [
        "def nivel_de_acceso_para_username(base_de_datos, username,  nip_de_acceso):\n",
        "    # Reto extra\n",
        "    if username not in base_de_datos:\n",
        "        return 0\n",
        "\n",
        "    # Reto estandar\n",
        "    if base_de_datos[username][\"rol\"] == \"admin\":\n",
        "        return 1\n",
        "    elif base_de_datos[username][\"rol\"] == \"lector\":\n",
        "        return 2\n",
        "    else:\n",
        "        if base_de_datos[username][\"nip_de_acceso\"] == nip_de_acceso:\n",
        "            return 1\n",
        "        else:\n",
        "            return 0"
      ],
      "metadata": {
        "id": "q1Vqd3MXrqyO"
      },
      "execution_count": 7,
      "outputs": []
    },
    {
      "cell_type": "code",
      "source": [
        "print(\"== Tests nivel_de_acceso_para_username==\\n\")\n",
        "\n",
        "contador_de_tests = 0\n",
        "errores = 0\n",
        "\n",
        "contador_de_tests += 1\n",
        "errores = test_funcion(nivel_de_acceso_para_username, errores, contador_de_tests,\n",
        "                       parametros=[usuarios, \"manolito_garcia\", None], resultado_esperado=1)\n",
        "contador_de_tests += 1\n",
        "errores = test_funcion(nivel_de_acceso_para_username, errores, contador_de_tests,\n",
        "                       parametros=[usuarios, \"sebas_macaco_23\", 3594], resultado_esperado=1)\n",
        "contador_de_tests += 1\n",
        "errores = test_funcion(nivel_de_acceso_para_username, errores, contador_de_tests,\n",
        "                       parametros=[usuarios, \"jonny_bravo_estuvo_aqui\", 9999], resultado_esperado=0)\n",
        "contador_de_tests += 1\n",
        "errores = test_funcion(nivel_de_acceso_para_username, errores, contador_de_tests,\n",
        "                       parametros=[usuarios, \"pepe_le_pu_88\", None], resultado_esperado=2)\n",
        "contador_de_tests += 1\n",
        "errores = test_funcion(nivel_de_acceso_para_username, errores, contador_de_tests,\n",
        "                       parametros=[usuarios, \"alfonso_torres_69\", None], resultado_esperado=0)\n",
        "\n",
        "# Corre el siguiente código sólo si decidiste realizar el reto extra\n",
        "#\n",
        "# contador_de_tests += 1\n",
        "# errores = test_funcion(nivel_de_acceso_para_username, errores, contador_de_tests,\n",
        "#                        parametros=[usuarios, \"los_yeah_yeahs_97\", 1345], resultado_esperado=0)\n",
        "\n",
        "print(f'\\nErrores encontrados: {errores}')"
      ],
      "metadata": {
        "colab": {
          "base_uri": "https://localhost:8080/"
        },
        "id": "2aqFiqAPr0Z9",
        "outputId": "76961906-a8ea-404e-a14d-b16f0e27596c"
      },
      "execution_count": 8,
      "outputs": [
        {
          "output_type": "stream",
          "name": "stdout",
          "text": [
            "== Tests nivel_de_acceso_para_username==\n",
            "\n",
            "Test 1: Resultado esperado es `1`, obtuvimos `1`\n",
            "Test 2: Resultado esperado es `1`, obtuvimos `1`\n",
            "Test 3: Resultado esperado es `0`, obtuvimos `0`\n",
            "Test 4: Resultado esperado es `2`, obtuvimos `2`\n",
            "Test 5: Resultado esperado es `0`, obtuvimos `0`\n",
            "\n",
            "Errores encontrados: 0\n"
          ]
        }
      ]
    }
  ]
}